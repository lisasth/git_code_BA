{
 "cells": [
  {
   "cell_type": "code",
   "execution_count": 4,
   "id": "f84ccac2",
   "metadata": {},
   "outputs": [
    {
     "name": "stdout",
     "output_type": "stream",
     "text": [
      "Innenpolitik - aktuelle Nachrichten\n",
      "****************************************************\n",
      "(Die Krankenhausreform soll mehr Spezialisierung bringen, aber auch das Überleben kleiner Kliniken erleichtern.)\n",
      "(Im 80-Betten-Krankenhaus Neuenbürg sieht man die Beschlüsse mit gemischten Gefühlen.)\n",
      "(Dass eine Klinikreform nötig ist, ist unstrittig.)\n",
      "(Nur bei der Ausgestaltung der nun beschlossenen Pläne gibt es Besorgnis: In den tagesthemen forderte die Krankenhausgesellschaft mehr finanzielle Zusagen.)\n",
      "(Deutschlands Stellung in der NATO hat sich in den vergangenen Monaten geändert.)\n",
      "(Die Bundesregierung geht voran und verspricht viel.)\n",
      "(Ob sie alle Zusagen aber auch einhält, wird sich erst in ein paar Jahren zeigen.)\n",
      "(Gesundheitsminister Lauterbach hat sich mit den Ländern auf Eckpunkte zur Krankenhausreform geeinigt.)\n",
      "(Wie soll die neue Finanzierung für Kliniken aussehen und was sind die nächsten Schritte?)\n",
      "(Ein Überblick.)\n",
      "(Das Elterngeld für Gutverdiener zu streichen, findet die FDP nicht gut.)\n",
      "(Familienministerin Paus hält an der Kindergrundsicherung fest und SPD-Chef Klingbeil stellt das Ehegattensplitting infrage.)\n",
      "(Wo soll nun gespart werden?)\n",
      "(Ein Überblick.)\n",
      "(Die Bundeswehr soll aus Mali abziehen, die Zusammenarbeit mit der Region aber gestärkt werden.)\n",
      "(Mit ehrgeizigen Zielen übernimmt Entwicklungsministerin Schulze die Präsidentschaft der Sahel-Allianz.)\n",
      "(SPD-Chef Klingbeil hat vorgeschlagen, das Ehegattensplitting zu streichen statt das Elterngeld zu kappen.)\n",
      "(Das Finanzministerium erklärte dazu, die Steuervorteile für Ehepaare blieben erhalten - zumindest vorerst.)\n",
      "(Die Krankenhausreform kommt nur schleppend in Gang.)\n",
      "(Gesundheitsminister Lauterbach verhandelt heute erneut mit den Ländern über die Pläne.)\n",
      "(Doch noch gibt es viele strittige Punkte.)\n",
      "(Bader und B.)\n",
      "(Sönnichsen.)\n",
      "(Familienministerin Paus verteidigt die geplante Obergrenze für den Anspruch auf Elterngeld.)\n",
      "(FDP-Vize Vogel schlug vor, das Elterngeld stattdessen anders zu verteilen.)\n",
      "(SPD-Chef Klingbeil forderte als Alternative das Aus des Ehegattensplittings.)\n",
      "(Die niedrigere Einkommensgrenze für den Bezug von Elterngeld soll erst für Geburten ab 1.)\n",
      "(Januar 2024 gelten.)\n",
      "(Wer vorher bereits Elterngeld beziehe, werde weiter Anspruch darauf haben, so das Familienministerium.)\n",
      "(Die hohen Umfragewerte der AfD beunruhigen die anderen Parteien.)\n",
      "(In die Debatte über Ursachen und Antworten hat sich nun auch Bundespräsident Steinmeier eingeschaltet.)\n",
      "(Er fordert \"eine Konjunktur der Problemlöser\".)\n",
      "(In Südbayern trainieren ukrainische Soldaten für den Fall, dass Russland radioaktive, biologische oder chemische Waffen einsetzt.)\n",
      "(Die Ausbildung, die sonst Monate dauert, müssen sie in nur drei Wochen absolvieren.)\n",
      "(Rechtsextreme nicht salonfähig machen, aber gute Beziehungen erhalten: Mit der Landratswahl im thüringischen Sonneberg weiß der Partnerlandkreis Bitburg-Prüm nicht so recht umzugehen.)\n",
      "(Sonnenholzner, C.)\n",
      "(Altmayer, J.)\n",
      "(Teuwsen.)\n",
      "(Das Angebot möblierter Wohnungen hat stark zugenommen.)\n",
      "(Diese können unter bestimmten Voraussetzungen deutlich teurer vermietet werden.)\n",
      "(Gegen diesen Trend will die SPD nun mit strengeren Regeln vorgehen.)\n",
      "(Die Ampelkoalition steht derzeit für eines: jede Menge Streit.)\n",
      "(Dabei bekommen die drei Regierungspartner viele Gesetze auch ziemlich geräuschlos hin.)\n",
      "(Eigentlich sollte der Bundestag am letzten Tag vor der Sommerpause über das Energieeffizienz-Gesetz abstimmen.)\n",
      "(Doch das ging schief: Weil am Nachmittag nicht mehr genug Abgeordnete anwesend waren, musste die Sitzung beendet werden.)\n",
      "(Wer gemeinschaftlich gegen ein Unternehmen klagt, soll es künftig leichter haben.)\n",
      "(Ob bei annullierten Flügen oder unrechtmäßigen Vertragsklauseln: Das erweiterte Verbandsklagerecht sieht unter anderem schnellere Entschädigungen vor.)\n",
      "(Bundestag und Bundesrat haben die Aufnahme des Hafens Mukran als Standort für ein LNG-Terminal in das entsprechende Gesetz beschlossen.)\n",
      "(Die Kritik an den Plänen hält jedoch an, nicht nur bei der Opposition.)\n",
      "(Der SPD-Abgeordnete Schrodi muss wegen eines schweren \"verbalen Angriffs\" im Bundestag 1000 Euro Ordnungsgeld zahlen.)\n",
      "(Schrodi erklärte, er habe sich bereits mit dem betroffenen CDU-Vertreter ausgesprochen.)\n",
      "(Michael Kretschmer ist viel unterwegs in Sachsen.)\n",
      "(Auch politisch fährt der CDU-Politiker oft im Zickzackkurs.)\n",
      "(Populismus werfen ihm seine Kritiker vor.)\n",
      "(Über einen, der keine Scheu vor AfD-Themen hat.)\n",
      "(Statt abzustimmen debattiert der Bundestag erneut über das Heizungsgesetz.)\n",
      "(Vor allem die Union spart dabei nicht mit heftiger Kritik an der Ampelkoalition - doch aus deren Reihen fehlt ausgerechnet der Bundeswirtschaftsminister.)\n",
      "(Der Bundestag hat den Hafen Mukran in das LNG-Beschleunigungsgesetz aufgenommen.)\n",
      "(Zwei schwimmende LNG-Terminals sollen dort stationiert werden.)\n",
      "(Die Pläne bleiben umstritten - und Gegner kündigten bereits rechtliche Schritte an.)\n",
      "(Im DeutschlandTrend steigt die AfD zur zweitstärksten Kraft auf.)\n",
      "(Kanzler Scholz nennt sie eine \"Schlechte-Laune-Partei\", CDU-Chef Merz erklärt sie zum \"Feind\".)\n",
      "(Eine Strategie zum Umgang mit der AfD aber fehlt.)\n",
      "(Der Bundesrat hat das Fachkräfteeinwanderungsgesetz gebilligt.)\n",
      "(Für Unternehmen soll es damit einfacher werden, Personal aus dem Ausland anzuwerben.)\n",
      "(Die Berliner Charité tut das schon jetzt - mit Erfolg.)\n",
      "(Brost.)\n",
      "(Im Bundestag sind Vorschläge für ein neues Sterbehilfe-Gesetz gescheitert.)\n",
      "(Die Debatte war für die Abgeordneten ein Balanceakt zwischen dem Schutz der Selbstbestimmung und dem Schutz des Lebens.)\n",
      "(Am Ende blieb der Graubereich.)\n",
      "(Durch die geplante Legalisierung von Cannabis rechnet das Gesundheitsministerium mit finanziellen Einsparungen bei der Strafverfolgung in Milliardenhöhe.)\n",
      "(Das geht aus einem neuen Gesetzentwurf hervor.)\n"
     ]
    }
   ],
   "source": [
    "import feedparser\n",
    "import re\n",
    "\n",
    "d = feedparser.parse('https://www.tagesschau.de/inland/innenpolitik/index~rss2.xml')\n",
    "\n",
    "print(d['feed']['title'])\n",
    "\n",
    "def split_sentences(text):\n",
    "    sentences = re.split(r'(?<!\\w\\.\\w.)(?<![A-Z][a-z]\\.)(?<=\\.|\\?|\\!)\\s', text)\n",
    "    sentences = [sentence.strip() for sentence in sentences]\n",
    "    sentences = [sentence for sentence in sentences if sentence != '' and not sentence.startswith('Von')]\n",
    "\n",
    "    return sentences\n",
    "\n",
    "def store_sentences(sentences, filename):\n",
    "    with open(filename, 'w', encoding='utf-8') as file:\n",
    "        for sentence in sentences:\n",
    "            file.write(sentence + '\\n')\n",
    "\n",
    "sentences = [] \n",
    "for entry in d.entries:\n",
    "    summary = entry.summary\n",
    "    sentence_list = split_sentences(summary)\n",
    "    sentences += sentence_list\n",
    "\n",
    "\n",
    "print(\"****************************************************\")\n",
    "for sentence in sentences:\n",
    "    print(f\"({sentence})\")\n",
    "\n",
    "store_sentences(sentences, '/Users/lisa/Desktop/tagesschau_sentences.txt')"
   ]
  },
  {
   "cell_type": "code",
   "execution_count": 2,
   "id": "dfa4e016",
   "metadata": {},
   "outputs": [
    {
     "name": "stdout",
     "output_type": "stream",
     "text": [
      "\n",
      "Note: you may need to restart the kernel to use updated packages.\n"
     ]
    }
   ],
   "source": [
    "conda list -e > \"C:\\\\Users\\\\Anwender\\\\Desktop\\\\Code\\\\Test_Set\\\\requirements.txt\""
   ]
  }
 ],
 "metadata": {
  "kernelspec": {
   "display_name": "Python 3 (ipykernel)",
   "language": "python",
   "name": "python3"
  },
  "language_info": {
   "codemirror_mode": {
    "name": "ipython",
    "version": 3
   },
   "file_extension": ".py",
   "mimetype": "text/x-python",
   "name": "python",
   "nbconvert_exporter": "python",
   "pygments_lexer": "ipython3",
   "version": "3.10.9"
  }
 },
 "nbformat": 4,
 "nbformat_minor": 5
}
